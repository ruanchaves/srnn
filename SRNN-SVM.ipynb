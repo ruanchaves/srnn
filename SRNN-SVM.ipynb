{
 "cells": [
  {
   "cell_type": "code",
   "execution_count": 1,
   "metadata": {
    "scrolled": true
   },
   "outputs": [
    {
     "name": "stderr",
     "output_type": "stream",
     "text": [
      "Using TensorFlow backend.\n",
      "/home/ruan/.conda/envs/sentiment/lib/python3.6/importlib/_bootstrap.py:219: RuntimeWarning: compiletime version 3.5 of module 'tensorflow.python.framework.fast_tensor_util' does not match runtime version 3.6\n",
      "  return f(*args, **kwds)\n"
     ]
    }
   ],
   "source": [
    "%matplotlib inline\n",
    "\n",
    "import sys\n",
    "import pandas as pd\n",
    "import numpy as np\n",
    "\n",
    "from keras.utils.np_utils import to_categorical\n",
    "from keras.preprocessing.text import Tokenizer, text_to_word_sequence\n",
    "from keras.preprocessing.sequence import pad_sequences\n",
    "from keras.models import Model\n",
    "from keras.layers import Input, Embedding, TimeDistributed, Dense, CuDNNGRU, CuDNNLSTM, Bidirectional"
   ]
  },
  {
   "cell_type": "code",
   "execution_count": 2,
   "metadata": {},
   "outputs": [],
   "source": [
    "#set hyper parameters\n",
    "MAX_NUM_WORDS = 30000\n",
    "EMBEDDING_DIM = 200\n",
    "VALIDATION_SPLIT = 0.1\n",
    "TEST_SPLIT=0.1\n",
    "NUM_FILTERS = 50\n",
    "MAX_LEN = 64\n",
    "Batch_size = 100\n",
    "EPOCHS = 10\n"
   ]
  },
  {
   "cell_type": "code",
   "execution_count": 3,
   "metadata": {},
   "outputs": [
    {
     "name": "stdout",
     "output_type": "stream",
     "text": [
      "CPU times: user 623 ms, sys: 61.7 ms, total: 685 ms\n",
      "Wall time: 687 ms\n"
     ]
    }
   ],
   "source": [
    "%%time\n",
    "\n",
    "DATASET = '/home/ruan/Envs/data/semeval.csv'\n",
    "\n",
    "X_PATH = '/home/ruan/Envs/srnn/DataTrain/train_us_text.txt'\n",
    "Y_PATH = '/home/ruan/Envs/srnn/DataTrain/train_us_labels.txt'\n",
    "\n",
    "x_values = []\n",
    "y_values = []\n",
    "with open(X_PATH,'r') as f:\n",
    "    for line in f:\n",
    "        x_values.append(line.rstrip('\\n'))\n",
    "with open(Y_PATH,'r') as f:\n",
    "    for line in f:\n",
    "        try:\n",
    "            y_values.append(int(line.rstrip('\\n')))\n",
    "        except:\n",
    "            y_values.append(line.rstrip('\\n'))\n",
    "\n",
    "if len(x_values) < len(y_values):\n",
    "    y_values = y_values[0:len(x_values)]\n",
    "else:\n",
    "    x_values = x_values[0:len(y_values)]\n",
    "        \n",
    "frame = { x_values[0] : x_values[1:], y_values[0] : y_values[1:] }\n",
    "    \n",
    "df = pd.DataFrame.from_dict(frame)\n",
    "\n",
    "Y = df.iloc[:, 1].values\n",
    "\n",
    "Y = to_categorical(Y,num_classes=20)\n",
    "\n",
    "X = df.iloc[:, 0].values"
   ]
  },
  {
   "cell_type": "code",
   "execution_count": 4,
   "metadata": {},
   "outputs": [
    {
     "data": {
      "text/html": [
       "<div>\n",
       "<style scoped>\n",
       "    .dataframe tbody tr th:only-of-type {\n",
       "        vertical-align: middle;\n",
       "    }\n",
       "\n",
       "    .dataframe tbody tr th {\n",
       "        vertical-align: top;\n",
       "    }\n",
       "\n",
       "    .dataframe thead th {\n",
       "        text-align: right;\n",
       "    }\n",
       "</style>\n",
       "<table border=\"1\" class=\"dataframe\">\n",
       "  <thead>\n",
       "    <tr style=\"text-align: right;\">\n",
       "      <th></th>\n",
       "      <th>text</th>\n",
       "      <th>labels</th>\n",
       "    </tr>\n",
       "  </thead>\n",
       "  <tbody>\n",
       "    <tr>\n",
       "      <th>0</th>\n",
       "      <td>LoL @ West Covina, California</td>\n",
       "      <td>2</td>\n",
       "    </tr>\n",
       "    <tr>\n",
       "      <th>1</th>\n",
       "      <td>Things got a little festive at the office #chr...</td>\n",
       "      <td>17</td>\n",
       "    </tr>\n",
       "    <tr>\n",
       "      <th>2</th>\n",
       "      <td>Step out and explore. # ️ @ Ellis Island Cafe</td>\n",
       "      <td>0</td>\n",
       "    </tr>\n",
       "    <tr>\n",
       "      <th>3</th>\n",
       "      <td>@user @ Cathedral Preparatory School</td>\n",
       "      <td>18</td>\n",
       "    </tr>\n",
       "    <tr>\n",
       "      <th>4</th>\n",
       "      <td>My baby bear @ Bubby's</td>\n",
       "      <td>1</td>\n",
       "    </tr>\n",
       "  </tbody>\n",
       "</table>\n",
       "</div>"
      ],
      "text/plain": [
       "                                                text  labels\n",
       "0                     LoL @ West Covina, California        2\n",
       "1  Things got a little festive at the office #chr...      17\n",
       "2     Step out and explore. # ️ @ Ellis Island Cafe        0\n",
       "3              @user @ Cathedral Preparatory School       18\n",
       "4                            My baby bear @ Bubby's        1"
      ]
     },
     "execution_count": 4,
     "metadata": {},
     "output_type": "execute_result"
    }
   ],
   "source": [
    "df.head()"
   ]
  },
  {
   "cell_type": "code",
   "execution_count": 5,
   "metadata": {},
   "outputs": [],
   "source": [
    "#shuffle the data\n",
    "indices = np.arange(X.shape[0])\n",
    "np.random.seed(2018)\n",
    "np.random.shuffle(indices)\n",
    "X=X[indices]\n",
    "Y=Y[indices]\n"
   ]
  },
  {
   "cell_type": "code",
   "execution_count": 6,
   "metadata": {},
   "outputs": [],
   "source": [
    "#training set, validation set and testing set\n",
    "nb_validation_samples_val = int((VALIDATION_SPLIT + TEST_SPLIT) * X.shape[0])\n",
    "nb_validation_samples_test = int(TEST_SPLIT * X.shape[0])\n",
    "\n",
    "x_train = X[:-nb_validation_samples_val]\n",
    "y_train = Y[:-nb_validation_samples_val]\n",
    "x_val =  X[-nb_validation_samples_val:-nb_validation_samples_test]\n",
    "y_val =  Y[-nb_validation_samples_val:-nb_validation_samples_test]\n",
    "x_test = X[-nb_validation_samples_test:]\n",
    "y_test = Y[-nb_validation_samples_test:]"
   ]
  },
  {
   "cell_type": "code",
   "execution_count": 7,
   "metadata": {},
   "outputs": [],
   "source": [
    "#use tokenizer to build vocab\n",
    "tokenizer1 = Tokenizer(num_words=MAX_NUM_WORDS)\n",
    "\n",
    "#tokenizer1.fit_on_texts(df.text)\n",
    "\n",
    "tokenizer1.fit_on_texts(df.iloc[:, 0])\n",
    "vocab = tokenizer1.word_index\n",
    "\n",
    "x_train_word_ids = tokenizer1.texts_to_sequences(x_train)\n",
    "x_test_word_ids = tokenizer1.texts_to_sequences(x_test)\n",
    "x_val_word_ids = tokenizer1.texts_to_sequences(x_val)\n",
    "\n",
    "#pad sequences into the same length\n",
    "x_train_padded_seqs = pad_sequences(x_train_word_ids, maxlen=MAX_LEN)\n",
    "x_test_padded_seqs = pad_sequences(x_test_word_ids, maxlen=MAX_LEN)\n",
    "x_val_padded_seqs = pad_sequences(x_val_word_ids, maxlen=MAX_LEN)\n"
   ]
  },
  {
   "cell_type": "code",
   "execution_count": 8,
   "metadata": {},
   "outputs": [
    {
     "name": "stdout",
     "output_type": "stream",
     "text": [
      "CPU times: user 1min 24s, sys: 1.26 s, total: 1min 25s\n",
      "Wall time: 1min 25s\n"
     ]
    }
   ],
   "source": [
    "%%time\n",
    "\n",
    "#slice sequences into many subsequences\n",
    "x_test_padded_seqs_split=[]\n",
    "for i in range(x_test_padded_seqs.shape[0]):\n",
    "    split1=np.split(x_test_padded_seqs[i],8)\n",
    "    a=[]\n",
    "    for j in range(8):\n",
    "        s=np.split(split1[j],8)\n",
    "        a.append(s)\n",
    "    x_test_padded_seqs_split.append(a)\n",
    "    \n",
    "x_val_padded_seqs_split=[]\n",
    "for i in range(x_val_padded_seqs.shape[0]):\n",
    "    split1=np.split(x_val_padded_seqs[i],8)\n",
    "    a=[]\n",
    "    for j in range(8):\n",
    "        s=np.split(split1[j],8)\n",
    "        a.append(s)\n",
    "    x_val_padded_seqs_split.append(a)\n",
    "   \n",
    "    \n",
    "x_train_padded_seqs_split=[]\n",
    "for i in range(x_train_padded_seqs.shape[0]):\n",
    "    split1=np.split(x_train_padded_seqs[i],8)\n",
    "    a=[]\n",
    "    for j in range(8):\n",
    "        s=np.split(split1[j],8)\n",
    "        a.append(s)\n",
    "    x_train_padded_seqs_split.append(a)"
   ]
  },
  {
   "cell_type": "code",
   "execution_count": 9,
   "metadata": {},
   "outputs": [
    {
     "name": "stdout",
     "output_type": "stream",
     "text": [
      "Using GloVe embeddings\n",
      "Found 1193514 word vectors.\n",
      "CPU times: user 1min 15s, sys: 1.1 s, total: 1min 16s\n",
      "Wall time: 1min 16s\n"
     ]
    }
   ],
   "source": [
    "%%time\n",
    "\n",
    "#load pre-trained GloVe word embeddings\n",
    "print(\"Using GloVe embeddings\")\n",
    "glove_path = '/home/ruan/Envs/data/glove.twitter.27B.200d.txt'\n",
    "embeddings_index = {}\n",
    "f = open(glove_path)\n",
    "for line in f:\n",
    "    values = line.split()\n",
    "    word = values[0]\n",
    "    coefs = np.asarray(values[1:], dtype='float32')\n",
    "    embeddings_index[word] = coefs\n",
    "f.close()\n",
    "print('Found %s word vectors.' % len(embeddings_index))"
   ]
  },
  {
   "cell_type": "code",
   "execution_count": 10,
   "metadata": {},
   "outputs": [],
   "source": [
    "#use pre-trained GloVe word embeddings to initialize the embedding layer\n",
    "embedding_matrix = np.random.random((MAX_NUM_WORDS + 1, EMBEDDING_DIM))\n",
    "for word, i in vocab.items():\n",
    "    if i<MAX_NUM_WORDS:\n",
    "        embedding_vector = embeddings_index.get(word)\n",
    "        if embedding_vector is not None:\n",
    "        # words not found in embedding index will be random initialized.\n",
    "            embedding_matrix[i] = embedding_vector\n",
    "            \n",
    "embedding_layer = Embedding(MAX_NUM_WORDS + 1,\n",
    "                            EMBEDDING_DIM,\n",
    "                            weights=[embedding_matrix],\n",
    "                            input_length=MAX_LEN//64,\n",
    "trainable=True)"
   ]
  },
  {
   "cell_type": "code",
   "execution_count": 11,
   "metadata": {},
   "outputs": [
    {
     "name": "stdout",
     "output_type": "stream",
     "text": [
      "_________________________________________________________________\n",
      "Layer (type)                 Output Shape              Param #   \n",
      "=================================================================\n",
      "input_1 (InputLayer)         (None, 1)                 0         \n",
      "_________________________________________________________________\n",
      "embedding_1 (Embedding)      (None, 1, 200)            6000200   \n",
      "_________________________________________________________________\n",
      "bidirectional_1 (Bidirection (None, 100)               75600     \n",
      "=================================================================\n",
      "Total params: 6,075,800\n",
      "Trainable params: 6,075,800\n",
      "Non-trainable params: 0\n",
      "_________________________________________________________________\n",
      "None\n",
      "_________________________________________________________________\n",
      "Layer (type)                 Output Shape              Param #   \n",
      "=================================================================\n",
      "input_2 (InputLayer)         (None, 8, 1)              0         \n",
      "_________________________________________________________________\n",
      "time_distributed_1 (TimeDist (None, 8, 100)            6075800   \n",
      "_________________________________________________________________\n",
      "bidirectional_2 (Bidirection (None, 100)               45600     \n",
      "=================================================================\n",
      "Total params: 6,121,400\n",
      "Trainable params: 6,121,400\n",
      "Non-trainable params: 0\n",
      "_________________________________________________________________\n",
      "None\n",
      "_________________________________________________________________\n",
      "Layer (type)                 Output Shape              Param #   \n",
      "=================================================================\n",
      "input_3 (InputLayer)         (None, 8, 8, 1)           0         \n",
      "_________________________________________________________________\n",
      "time_distributed_2 (TimeDist (None, 8, 100)            6121400   \n",
      "_________________________________________________________________\n",
      "bidirectional_3 (Bidirection (None, 100)               45600     \n",
      "_________________________________________________________________\n",
      "dense_1 (Dense)              (None, 20)                2020      \n",
      "=================================================================\n",
      "Total params: 6,169,020\n",
      "Trainable params: 6,169,020\n",
      "Non-trainable params: 0\n",
      "_________________________________________________________________\n",
      "None\n"
     ]
    }
   ],
   "source": [
    "input1 = Input(shape=(MAX_LEN//64,), dtype='int32')\n",
    "embed = embedding_layer(input1)\n",
    "gru1 = Bidirectional(CuDNNGRU(NUM_FILTERS))(embed)\n",
    "Encoder1 = Model(input1, gru1)\n",
    "\n",
    "input2 = Input(shape=(8,MAX_LEN//64,), dtype='int32')\n",
    "embed2 = TimeDistributed(Encoder1)(input2)\n",
    "gru2 = Bidirectional(CuDNNGRU(NUM_FILTERS))(embed2)\n",
    "Encoder2 = Model(input2,gru2)\n",
    "\n",
    "input3 = Input(shape=(8,8,MAX_LEN//64), dtype='int32')\n",
    "embed3 = TimeDistributed(Encoder2)(input3)\n",
    "gru3 = Bidirectional(CuDNNGRU(NUM_FILTERS))(embed3)\n",
    "preds = Dense(20, activation='softmax')(gru3)\n",
    "model = Model(input3, preds)\n",
    "\n",
    "\n",
    "print(Encoder1.summary())\n",
    "print(Encoder2.summary())\n",
    "print(model.summary())\n"
   ]
  },
  {
   "cell_type": "code",
   "execution_count": 12,
   "metadata": {
    "scrolled": true
   },
   "outputs": [
    {
     "name": "stderr",
     "output_type": "stream",
     "text": [
      "/home/ruan/.conda/envs/sentiment/lib/python3.6/site-packages/ipykernel_launcher.py:32: UserWarning: The `nb_epoch` argument in `fit` has been renamed `epochs`.\n"
     ]
    },
    {
     "name": "stdout",
     "output_type": "stream",
     "text": [
      "Train on 389423 samples, validate on 48678 samples\n",
      "Epoch 1/2\n",
      "389400/389423 [============================>.] - ETA: 0s - loss: 1.9294 - acc: 0.4211\n",
      "Epoch 00001: val_acc improved from -inf to 0.43451, saving model to biSRNN(8,2)_stanford.h5\n",
      "389423/389423 [==============================] - 84s 217us/step - loss: 1.9294 - acc: 0.4211 - val_loss: 1.8782 - val_acc: 0.4345\n",
      "Epoch 2/2\n",
      "389400/389423 [============================>.] - ETA: 0s - loss: 1.8336 - acc: 0.4482\n",
      "Epoch 00002: val_acc improved from 0.43451 to 0.44268, saving model to biSRNN(8,2)_stanford.h5\n",
      "389423/389423 [==============================] - 83s 212us/step - loss: 1.8336 - acc: 0.4482 - val_loss: 1.8615 - val_acc: 0.4427\n",
      "48677/48677 [==============================] - 3s 58us/step\n",
      "1.8748150931796275   0.4367360332627754\n"
     ]
    }
   ],
   "source": [
    "sample_mode = False\n",
    "\n",
    "EPOCHS = 2\n",
    "\n",
    "# avoid overfitting: epsilon=0.1 \n",
    "# converge quickly: epsilon=0.0001\n",
    "\n",
    "if sample_mode == False:\n",
    "    #use adam optimizer\n",
    "    from keras.optimizers import Adam\n",
    "    opt = Adam(\n",
    "        lr=0.01, \n",
    "        beta_1=0.9, \n",
    "        beta_2=0.9, \n",
    "        epsilon=1e-04)\n",
    "    \n",
    "    model.compile(loss='categorical_crossentropy',\n",
    "                  optimizer=opt,\n",
    "                  metrics=['acc'])\n",
    "    \n",
    "    #save the best model on validation set\n",
    "    from keras.callbacks import ModelCheckpoint             \n",
    "    savebestmodel = 'biSRNN(8,2)_stanford.h5'\n",
    "    checkpoint = ModelCheckpoint(savebestmodel, monitor='val_acc', verbose=1, save_best_only=True, mode='max')\n",
    "    callbacks=[checkpoint] \n",
    "                 \n",
    "    model.fit(np.array(x_train_padded_seqs_split), y_train, \n",
    "              validation_data = (np.array(x_val_padded_seqs_split), y_val),\n",
    "              nb_epoch = EPOCHS, \n",
    "              batch_size = Batch_size,\n",
    "              callbacks = callbacks,\n",
    "              verbose = 1)\n",
    "    \n",
    "    #use the best model to evaluate on test set\n",
    "    from keras.models import load_model\n",
    "    best_model= load_model(savebestmodel)\n",
    "    loss,acc = tuple(best_model.evaluate(np.array(x_test_padded_seqs_split),y_test,batch_size=Batch_size))\n",
    "    print('TEST ACCURACY: ', acc)"
   ]
  },
  {
   "cell_type": "code",
   "execution_count": 15,
   "metadata": {},
   "outputs": [],
   "source": [
    "new_model = Model(inputs=model.input,\n",
    "                  outputs=model.get_layer(\"bidirectional_3\").output)"
   ]
  },
  {
   "cell_type": "code",
   "execution_count": 16,
   "metadata": {},
   "outputs": [
    {
     "name": "stdout",
     "output_type": "stream",
     "text": [
      "CPU times: user 40min 16s, sys: 2min 8s, total: 42min 25s\n",
      "Wall time: 35min 27s\n"
     ]
    }
   ],
   "source": [
    "%%time\n",
    "\n",
    "x_train_svm = []\n",
    "\n",
    "tsvm_data = 'thundersvm_train_dataset.txt'\n",
    "tsvm_list = []\n",
    "\n",
    "tsvm_test = 'thundersvm_test_dataset.txt'\n",
    "tsvm_test_list = []\n",
    "\n",
    "open(tsvm_data,'w+').close()\n",
    "open(tsvm_test,'w+').close()\n",
    "\n",
    "x_train_svm = []\n",
    "for seq in x_train_padded_seqs_split:\n",
    "    a = new_model.predict(np.array([seq]))\n",
    "    x_train_svm.append(a[0])\n",
    "    \n",
    "x_val_svm = []\n",
    "for seq in x_val_padded_seqs_split:\n",
    "    a = new_model.predict(np.array([seq]))\n",
    "    x_val_svm.append(a[0])    \n",
    "\n",
    "x_test_svm = []\n",
    "for seq in x_test_padded_seqs_split:\n",
    "    a = new_model.predict(np.array([seq]))\n",
    "    x_test_svm.append(a[0])\n"
   ]
  },
  {
   "cell_type": "code",
   "execution_count": null,
   "metadata": {},
   "outputs": [],
   "source": [
    "%%time\n",
    "\n",
    "y_train_svm = []\n",
    "for label in y_train:\n",
    "    idx = np.argmax(np.array(label))\n",
    "    y_train_svm.append(idx)\n",
    "\n",
    "y_val_svm = []\n",
    "for label in y_val:\n",
    "    idx = np.argmax(np.array(label))\n",
    "    y_val_svm.append(idx)    \n",
    "\n",
    "y_test_svm = []\n",
    "for label in y_test:\n",
    "    idx = np.argmax(np.array(label))\n",
    "    y_test_svm.append(idx)    "
   ]
  },
  {
   "cell_type": "code",
   "execution_count": null,
   "metadata": {},
   "outputs": [],
   "source": [
    "%%time\n",
    "\n",
    "for i,j in enumerate(y_train_svm):\n",
    "    s = '{0} '.format(j)\n",
    "    for k,m in enumerate(x_train_svm[i]):\n",
    "        s += '{0}:{1} '.format(k+1,m)\n",
    "    tsvm_list.append(s)\n",
    "\n",
    "tsvm_string = '\\n'.join(tsvm_list)\n",
    "    \n",
    "with open(tsvm_data,'w') as f:\n",
    "    print(tsvm_string,file=f)\n",
    "\n",
    "for i,j in enumerate(y_test_svm):\n",
    "    s = '{0} '.format(j)\n",
    "    for k,m in enumerate(x_test_svm[i]):\n",
    "        s += '{0}:{1} '.format(k+1,m)\n",
    "    tsvm_test_list.append(s)\n",
    "\n",
    "tsvm_test_string = '\\n'.join(tsvm_test_list)\n",
    "    \n",
    "with open(tsvm_test,'w') as f:\n",
    "    print(tsvm_test_string,file=f)"
   ]
  }
 ],
 "metadata": {
  "kernelspec": {
   "display_name": "Python 3",
   "language": "python",
   "name": "python3"
  },
  "language_info": {
   "codemirror_mode": {
    "name": "ipython",
    "version": 3
   },
   "file_extension": ".py",
   "mimetype": "text/x-python",
   "name": "python",
   "nbconvert_exporter": "python",
   "pygments_lexer": "ipython3",
   "version": "3.6.6"
  }
 },
 "nbformat": 4,
 "nbformat_minor": 2
}
