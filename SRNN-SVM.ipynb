{
 "cells": [
  {
   "cell_type": "code",
   "execution_count": 1,
   "metadata": {
    "scrolled": true
   },
   "outputs": [
    {
     "name": "stderr",
     "output_type": "stream",
     "text": [
      "Using TensorFlow backend.\n",
      "/home/ruan/.conda/envs/sentiment/lib/python3.6/importlib/_bootstrap.py:219: RuntimeWarning: compiletime version 3.5 of module 'tensorflow.python.framework.fast_tensor_util' does not match runtime version 3.6\n",
      "  return f(*args, **kwds)\n"
     ]
    }
   ],
   "source": [
    "%matplotlib inline\n",
    "\n",
    "import sys\n",
    "import pandas as pd\n",
    "import numpy as np\n",
    "\n",
    "from keras.utils.np_utils import to_categorical\n",
    "from keras.preprocessing.text import Tokenizer, text_to_word_sequence\n",
    "from keras.preprocessing.sequence import pad_sequences\n",
    "from keras.models import Model\n",
    "from keras.layers import Input, Embedding, TimeDistributed, Dense, CuDNNGRU, CuDNNLSTM, Bidirectional"
   ]
  },
  {
   "cell_type": "code",
   "execution_count": 2,
   "metadata": {},
   "outputs": [],
   "source": [
    "#set hyper parameters\n",
    "MAX_NUM_WORDS = 30000\n",
    "EMBEDDING_DIM = 200\n",
    "VALIDATION_SPLIT = 0.1\n",
    "TEST_SPLIT=0.1\n",
    "NUM_FILTERS = 50\n",
    "MAX_LEN = 512\n",
    "Batch_size = 100\n",
    "EPOCHS = 2\n",
    "\n",
    "DATASET = '/home/ruan/Envs/data/yelp_2013.csv'\n",
    "\n",
    "glove_path = '/home/ruan/Envs/data/glove.twitter.27B.200d.txt'\n",
    "embeddings_file = 'embedding_dict.pkl'\n",
    "\n",
    "SAMPLE_SIZE = 0.8"
   ]
  },
  {
   "cell_type": "code",
   "execution_count": 3,
   "metadata": {},
   "outputs": [
    {
     "name": "stdout",
     "output_type": "stream",
     "text": [
      "CPU times: user 2.76 s, sys: 116 ms, total: 2.88 s\n",
      "Wall time: 2.88 s\n"
     ]
    }
   ],
   "source": [
    "%%time\n",
    "\n",
    "df = pd.read_csv(DATASET, encoding='latin-1')\n",
    "sz = int(df.shape[0] * SAMPLE_SIZE)\n",
    "df = df.sample(sz)\n",
    "\n",
    "Y = df.stars.values-1\n",
    "Y = to_categorical(Y,num_classes=5)\n",
    "X = df.text.values\n"
   ]
  },
  {
   "cell_type": "code",
   "execution_count": 4,
   "metadata": {},
   "outputs": [
    {
     "data": {
      "text/html": [
       "<div>\n",
       "<style scoped>\n",
       "    .dataframe tbody tr th:only-of-type {\n",
       "        vertical-align: middle;\n",
       "    }\n",
       "\n",
       "    .dataframe tbody tr th {\n",
       "        vertical-align: top;\n",
       "    }\n",
       "\n",
       "    .dataframe thead th {\n",
       "        text-align: right;\n",
       "    }\n",
       "</style>\n",
       "<table border=\"1\" class=\"dataframe\">\n",
       "  <thead>\n",
       "    <tr style=\"text-align: right;\">\n",
       "      <th></th>\n",
       "      <th>Unnamed: 0</th>\n",
       "      <th>Unnamed: 0.1</th>\n",
       "      <th>text</th>\n",
       "      <th>stars</th>\n",
       "      <th>date</th>\n",
       "      <th>year</th>\n",
       "    </tr>\n",
       "  </thead>\n",
       "  <tbody>\n",
       "    <tr>\n",
       "      <th>244921</th>\n",
       "      <td>2384806</td>\n",
       "      <td>2384806</td>\n",
       "      <td>i'm torn about what rating to give. the burger...</td>\n",
       "      <td>3</td>\n",
       "      <td>2013-06-10</td>\n",
       "      <td>2013</td>\n",
       "    </tr>\n",
       "    <tr>\n",
       "      <th>418605</th>\n",
       "      <td>4214926</td>\n",
       "      <td>4214926</td>\n",
       "      <td>first, let me say that i  desperately  wanted ...</td>\n",
       "      <td>2</td>\n",
       "      <td>2013-11-03</td>\n",
       "      <td>2013</td>\n",
       "    </tr>\n",
       "    <tr>\n",
       "      <th>67213</th>\n",
       "      <td>641291</td>\n",
       "      <td>641291</td>\n",
       "      <td>love this place! safe   well lit!\\nimportant w...</td>\n",
       "      <td>5</td>\n",
       "      <td>2013-05-27</td>\n",
       "      <td>2013</td>\n",
       "    </tr>\n",
       "    <tr>\n",
       "      <th>252352</th>\n",
       "      <td>2461008</td>\n",
       "      <td>2461008</td>\n",
       "      <td>this is a wonderful little place to visit, a m...</td>\n",
       "      <td>5</td>\n",
       "      <td>2013-07-21</td>\n",
       "      <td>2013</td>\n",
       "    </tr>\n",
       "    <tr>\n",
       "      <th>425716</th>\n",
       "      <td>4288792</td>\n",
       "      <td>4288792</td>\n",
       "      <td>went there for a drink with friends. we wanted...</td>\n",
       "      <td>2</td>\n",
       "      <td>2013-08-13</td>\n",
       "      <td>2013</td>\n",
       "    </tr>\n",
       "  </tbody>\n",
       "</table>\n",
       "</div>"
      ],
      "text/plain": [
       "        Unnamed: 0  Unnamed: 0.1  \\\n",
       "244921     2384806       2384806   \n",
       "418605     4214926       4214926   \n",
       "67213       641291        641291   \n",
       "252352     2461008       2461008   \n",
       "425716     4288792       4288792   \n",
       "\n",
       "                                                     text  stars        date  \\\n",
       "244921  i'm torn about what rating to give. the burger...      3  2013-06-10   \n",
       "418605  first, let me say that i  desperately  wanted ...      2  2013-11-03   \n",
       "67213   love this place! safe   well lit!\\nimportant w...      5  2013-05-27   \n",
       "252352  this is a wonderful little place to visit, a m...      5  2013-07-21   \n",
       "425716  went there for a drink with friends. we wanted...      2  2013-08-13   \n",
       "\n",
       "        year  \n",
       "244921  2013  \n",
       "418605  2013  \n",
       "67213   2013  \n",
       "252352  2013  \n",
       "425716  2013  "
      ]
     },
     "execution_count": 4,
     "metadata": {},
     "output_type": "execute_result"
    }
   ],
   "source": [
    "df.head()"
   ]
  },
  {
   "cell_type": "code",
   "execution_count": 5,
   "metadata": {},
   "outputs": [],
   "source": [
    "#shuffle the data\n",
    "indices = np.arange(X.shape[0])\n",
    "np.random.seed(2018)\n",
    "np.random.shuffle(indices)\n",
    "X=X[indices]\n",
    "Y=Y[indices]\n"
   ]
  },
  {
   "cell_type": "code",
   "execution_count": 6,
   "metadata": {},
   "outputs": [],
   "source": [
    "#training set, validation set and testing set\n",
    "nb_validation_samples_val = int((VALIDATION_SPLIT + TEST_SPLIT) * X.shape[0])\n",
    "nb_validation_samples_test = int(TEST_SPLIT * X.shape[0])\n",
    "\n",
    "x_train = X[:-nb_validation_samples_val]\n",
    "y_train = Y[:-nb_validation_samples_val]\n",
    "x_val =  X[-nb_validation_samples_val:-nb_validation_samples_test]\n",
    "y_val =  Y[-nb_validation_samples_val:-nb_validation_samples_test]\n",
    "x_test = X[-nb_validation_samples_test:]\n",
    "y_test = Y[-nb_validation_samples_test:]"
   ]
  },
  {
   "cell_type": "code",
   "execution_count": 7,
   "metadata": {},
   "outputs": [],
   "source": [
    "#use tokenizer to build vocab\n",
    "tokenizer1 = Tokenizer(num_words=MAX_NUM_WORDS)\n",
    "\n",
    "#tokenizer1.fit_on_texts(df.text)\n",
    "\n",
    "tokenizer1.fit_on_texts(df.text)\n",
    "vocab = tokenizer1.word_index\n",
    "\n",
    "x_train_word_ids = tokenizer1.texts_to_sequences(x_train)\n",
    "x_test_word_ids = tokenizer1.texts_to_sequences(x_test)\n",
    "x_val_word_ids = tokenizer1.texts_to_sequences(x_val)\n",
    "\n",
    "#pad sequences into the same length\n",
    "x_train_padded_seqs = pad_sequences(x_train_word_ids, maxlen=MAX_LEN)\n",
    "x_test_padded_seqs = pad_sequences(x_test_word_ids, maxlen=MAX_LEN)\n",
    "x_val_padded_seqs = pad_sequences(x_val_word_ids, maxlen=MAX_LEN)\n"
   ]
  },
  {
   "cell_type": "code",
   "execution_count": 8,
   "metadata": {},
   "outputs": [
    {
     "name": "stdout",
     "output_type": "stream",
     "text": [
      "CPU times: user 1min 8s, sys: 968 ms, total: 1min 9s\n",
      "Wall time: 1min 9s\n"
     ]
    }
   ],
   "source": [
    "%%time\n",
    "\n",
    "#slice sequences into many subsequences\n",
    "x_test_padded_seqs_split=[]\n",
    "for i in range(x_test_padded_seqs.shape[0]):\n",
    "    split1=np.split(x_test_padded_seqs[i],8)\n",
    "    a=[]\n",
    "    for j in range(8):\n",
    "        s=np.split(split1[j],8)\n",
    "        a.append(s)\n",
    "    x_test_padded_seqs_split.append(a)\n",
    "    \n",
    "x_val_padded_seqs_split=[]\n",
    "for i in range(x_val_padded_seqs.shape[0]):\n",
    "    split1=np.split(x_val_padded_seqs[i],8)\n",
    "    a=[]\n",
    "    for j in range(8):\n",
    "        s=np.split(split1[j],8)\n",
    "        a.append(s)\n",
    "    x_val_padded_seqs_split.append(a)\n",
    "   \n",
    "    \n",
    "x_train_padded_seqs_split=[]\n",
    "for i in range(x_train_padded_seqs.shape[0]):\n",
    "    split1=np.split(x_train_padded_seqs[i],8)\n",
    "    a=[]\n",
    "    for j in range(8):\n",
    "        s=np.split(split1[j],8)\n",
    "        a.append(s)\n",
    "    x_train_padded_seqs_split.append(a)"
   ]
  },
  {
   "cell_type": "code",
   "execution_count": 9,
   "metadata": {},
   "outputs": [
    {
     "name": "stdout",
     "output_type": "stream",
     "text": [
      "CPU times: user 3.12 s, sys: 1.02 s, total: 4.15 s\n",
      "Wall time: 4.24 s\n"
     ]
    }
   ],
   "source": [
    "%%time\n",
    "\n",
    "import pickle\n",
    "\n",
    "glove_path = '/home/ruan/Envs/data/glove.twitter.27B.200d.txt'\n",
    "embeddings_file = 'embedding_dict.pkl'\n",
    "\n",
    "def make(f):\n",
    "    embeddings_index = {}\n",
    "    for line in f:\n",
    "        values = line.split()\n",
    "        word = values[0]\n",
    "        coefs = np.asarray(values[1:], dtype='float32')\n",
    "        embeddings_index[word] = coefs\n",
    "    f.close()\n",
    "    return embeddings_index\n",
    "\n",
    "try:\n",
    "    open(embeddings_file,'r').close()\n",
    "    with open(embeddings_file,'rb') as f:\n",
    "        embeddings_index = pickle.load(f)\n",
    "except:\n",
    "    open(embeddings_file,'w+').close()\n",
    "    f = open(glove_path)\n",
    "    embeddings_index = make(f)\n",
    "    with open(embeddings_file,'wb') as f:\n",
    "        pickle.dump(embeddings_index,f)"
   ]
  },
  {
   "cell_type": "code",
   "execution_count": 10,
   "metadata": {},
   "outputs": [],
   "source": [
    "#use pre-trained GloVe word embeddings to initialize the embedding layer\n",
    "embedding_matrix = np.random.random((MAX_NUM_WORDS + 1, EMBEDDING_DIM))\n",
    "for word, i in vocab.items():\n",
    "    if i<MAX_NUM_WORDS:\n",
    "        embedding_vector = embeddings_index.get(word)\n",
    "        if embedding_vector is not None:\n",
    "        # words not found in embedding index will be random initialized.\n",
    "            embedding_matrix[i] = embedding_vector\n",
    "            \n",
    "embedding_layer = Embedding(MAX_NUM_WORDS + 1,\n",
    "                            EMBEDDING_DIM,\n",
    "                            weights=[embedding_matrix],\n",
    "                            input_length=MAX_LEN//64,\n",
    "trainable=True)"
   ]
  },
  {
   "cell_type": "code",
   "execution_count": 11,
   "metadata": {},
   "outputs": [
    {
     "name": "stdout",
     "output_type": "stream",
     "text": [
      "_________________________________________________________________\n",
      "Layer (type)                 Output Shape              Param #   \n",
      "=================================================================\n",
      "input_1 (InputLayer)         (None, 8)                 0         \n",
      "_________________________________________________________________\n",
      "embedding_1 (Embedding)      (None, 8, 200)            6000200   \n",
      "_________________________________________________________________\n",
      "cu_dnngru_2 (CuDNNGRU)       (None, 50)                37800     \n",
      "=================================================================\n",
      "Total params: 6,038,000\n",
      "Trainable params: 6,038,000\n",
      "Non-trainable params: 0\n",
      "_________________________________________________________________\n",
      "None\n",
      "_________________________________________________________________\n",
      "Layer (type)                 Output Shape              Param #   \n",
      "=================================================================\n",
      "input_2 (InputLayer)         (None, 8, 8)              0         \n",
      "_________________________________________________________________\n",
      "time_distributed_1 (TimeDist (None, 8, 50)             6038000   \n",
      "_________________________________________________________________\n",
      "bidirectional_2 (Bidirection (None, 100)               30600     \n",
      "=================================================================\n",
      "Total params: 6,068,600\n",
      "Trainable params: 6,068,600\n",
      "Non-trainable params: 0\n",
      "_________________________________________________________________\n",
      "None\n",
      "_________________________________________________________________\n",
      "Layer (type)                 Output Shape              Param #   \n",
      "=================================================================\n",
      "input_3 (InputLayer)         (None, 8, 8, 8)           0         \n",
      "_________________________________________________________________\n",
      "time_distributed_2 (TimeDist (None, 8, 100)            6068600   \n",
      "_________________________________________________________________\n",
      "cu_dnngru_6 (CuDNNGRU)       (None, 50)                22800     \n",
      "_________________________________________________________________\n",
      "dense_1 (Dense)              (None, 5)                 255       \n",
      "=================================================================\n",
      "Total params: 6,091,655\n",
      "Trainable params: 6,091,655\n",
      "Non-trainable params: 0\n",
      "_________________________________________________________________\n",
      "None\n"
     ]
    }
   ],
   "source": [
    "input1 = Input(shape=(MAX_LEN//64,), dtype='int32')\n",
    "embed = embedding_layer(input1)\n",
    "gru1 = Bidirectional(CuDNNGRU(NUM_FILTERS))(embed)\n",
    "gru1 = CuDNNGRU(NUM_FILTERS)(embed)\n",
    "Encoder1 = Model(input1, gru1)\n",
    "\n",
    "input2 = Input(shape=(8,MAX_LEN//64,), dtype='int32')\n",
    "embed2 = TimeDistributed(Encoder1)(input2)\n",
    "gru2 = Bidirectional(CuDNNGRU(NUM_FILTERS))(embed2)\n",
    "gru1 = CuDNNGRU(NUM_FILTERS)(embed2)\n",
    "Encoder2 = Model(input2,gru2)\n",
    "\n",
    "input3 = Input(shape=(8,8,MAX_LEN//64), dtype='int32')\n",
    "embed3 = TimeDistributed(Encoder2)(input3)\n",
    "gru3 = Bidirectional(CuDNNGRU(NUM_FILTERS))(embed3)\n",
    "gru3 = CuDNNGRU(NUM_FILTERS)(embed3)\n",
    "preds = Dense(5, activation='softmax')(gru3)\n",
    "model = Model(input3, preds)\n",
    "\n",
    "\n",
    "print(Encoder1.summary())\n",
    "print(Encoder2.summary())\n",
    "print(model.summary())\n"
   ]
  },
  {
   "cell_type": "code",
   "execution_count": 12,
   "metadata": {
    "scrolled": true
   },
   "outputs": [
    {
     "name": "stderr",
     "output_type": "stream",
     "text": [
      "/home/ruan/.conda/envs/sentiment/lib/python3.6/site-packages/ipykernel_launcher.py:31: UserWarning: The `nb_epoch` argument in `fit` has been renamed `epochs`.\n"
     ]
    },
    {
     "name": "stdout",
     "output_type": "stream",
     "text": [
      "Train on 299909 samples, validate on 37489 samples\n",
      "Epoch 1/2\n",
      "299900/299909 [============================>.] - ETA: 0s - loss: 0.8618 - acc: 0.6209\n",
      "Epoch 00001: val_acc improved from -inf to 0.65801, saving model to biSRNN(8,2)_stanford.h5\n",
      "299909/299909 [==============================] - 80s 267us/step - loss: 0.8618 - acc: 0.6209 - val_loss: 0.7810 - val_acc: 0.6580\n",
      "Epoch 2/2\n",
      "299700/299909 [============================>.] - ETA: 0s - loss: 0.7426 - acc: 0.6767\n",
      "Epoch 00002: val_acc improved from 0.65801 to 0.66235, saving model to biSRNN(8,2)_stanford.h5\n",
      "299909/299909 [==============================] - 78s 261us/step - loss: 0.7426 - acc: 0.6767 - val_loss: 0.7633 - val_acc: 0.6624\n",
      "37488/37488 [==============================] - 3s 69us/step\n",
      "TEST ACCURACY:  0.6665332923828919\n"
     ]
    }
   ],
   "source": [
    "sample_mode = False\n",
    "\n",
    "\n",
    "# avoid overfitting: epsilon=0.1 \n",
    "# converge quickly: epsilon=0.0001\n",
    "\n",
    "if sample_mode == False:\n",
    "    #use adam optimizer\n",
    "    from keras.optimizers import Adam\n",
    "    opt = Adam(\n",
    "        lr=0.001, \n",
    "        beta_1=0.9, \n",
    "        beta_2=0.825, \n",
    "        epsilon=1e-08)\n",
    "    \n",
    "    model.compile(loss='categorical_crossentropy',\n",
    "                  optimizer=opt,\n",
    "                  metrics=['acc'])\n",
    "    \n",
    "    #save the best model on validation set\n",
    "    from keras.callbacks import ModelCheckpoint             \n",
    "    savebestmodel = 'biSRNN(8,2)_stanford.h5'\n",
    "    checkpoint = ModelCheckpoint(savebestmodel, monitor='val_acc', verbose=1, save_best_only=True, mode='max')\n",
    "    callbacks=[checkpoint] \n",
    "                 \n",
    "    model.fit(np.array(x_train_padded_seqs_split), y_train, \n",
    "              validation_data = (np.array(x_val_padded_seqs_split), y_val),\n",
    "              nb_epoch = EPOCHS, \n",
    "              batch_size = Batch_size,\n",
    "              callbacks = callbacks,\n",
    "              verbose = 1)\n",
    "    \n",
    "    #use the best model to evaluate on test set\n",
    "    from keras.models import load_model\n",
    "    best_model= load_model(savebestmodel)\n",
    "    loss,acc = tuple(best_model.evaluate(np.array(x_test_padded_seqs_split),y_test,batch_size=Batch_size))\n",
    "    print('TEST ACCURACY: ', acc)"
   ]
  },
  {
   "cell_type": "code",
   "execution_count": null,
   "metadata": {},
   "outputs": [],
   "source": []
  },
  {
   "cell_type": "code",
   "execution_count": 13,
   "metadata": {},
   "outputs": [],
   "source": [
    "new_model = Model(inputs=model.input,\n",
    "                  outputs=model.get_layer(\"cu_dnngru_6\").output)"
   ]
  },
  {
   "cell_type": "code",
   "execution_count": 14,
   "metadata": {},
   "outputs": [
    {
     "name": "stdout",
     "output_type": "stream",
     "text": [
      "CPU times: user 8.31 s, sys: 219 ms, total: 8.53 s\n",
      "Wall time: 8.39 s\n"
     ]
    }
   ],
   "source": [
    "%%time\n",
    "\n",
    "x_train_svm = []\n",
    "\n",
    "tsvm_data = 'thundersvm_train_dataset.txt'\n",
    "tsvm_list = []\n",
    "\n",
    "tsvm_test = 'thundersvm_test_dataset.txt'\n",
    "tsvm_test_list = []\n",
    "\n",
    "open(tsvm_data,'w+').close()\n",
    "open(tsvm_test,'w+').close()\n",
    "\n",
    "x_train_svm = [ np.array(x) for x in x_train_padded_seqs_split ] \n",
    "x_val_svm = [ np.array(x) for x in x_val_padded_seqs_split ]\n",
    "x_test_svm = [ np.array(x) for x in x_test_padded_seqs_split ]\n",
    "\n"
   ]
  },
  {
   "cell_type": "code",
   "execution_count": 15,
   "metadata": {},
   "outputs": [
    {
     "name": "stdout",
     "output_type": "stream",
     "text": [
      "CPU times: user 736 ms, sys: 2.68 ms, total: 739 ms\n",
      "Wall time: 728 ms\n"
     ]
    }
   ],
   "source": [
    "%%time\n",
    "\n",
    "y_train_svm = [np.argmax(np.array(x)) for x in y_train]\n",
    "y_val_svm = [np.argmax(np.array(x)) for x in y_val]\n",
    "y_test_svm = [np.argmax(np.array(x)) for x in y_test]"
   ]
  },
  {
   "cell_type": "code",
   "execution_count": 16,
   "metadata": {},
   "outputs": [
    {
     "name": "stdout",
     "output_type": "stream",
     "text": [
      "CPU times: user 52.8 s, sys: 3.33 s, total: 56.2 s\n",
      "Wall time: 45.8 s\n"
     ]
    }
   ],
   "source": [
    "%%time\n",
    "\n",
    "x_train_svm = (lambda x: new_model.predict(np.array(x)))(x_train_svm)\n",
    "x_val_svm = (lambda x: new_model.predict(np.array(x)))(x_val_svm)\n",
    "x_test_svm = (lambda x: new_model.predict(np.array(x)))(x_test_svm)"
   ]
  },
  {
   "cell_type": "code",
   "execution_count": 17,
   "metadata": {},
   "outputs": [
    {
     "name": "stdout",
     "output_type": "stream",
     "text": [
      "CPU times: user 27.8 s, sys: 151 ms, total: 28 s\n",
      "Wall time: 27.5 s\n"
     ]
    }
   ],
   "source": [
    "%%time\n",
    "\n",
    "tsvm_list = []\n",
    "for i,j in enumerate(y_train_svm):\n",
    "    s = '{0} '.format(j)\n",
    "    for k,m in enumerate(x_train_svm[i]):\n",
    "        s += '{0}:{1} '.format(k+1,m)\n",
    "    tsvm_list.append(s)\n",
    "\n",
    "tsvm_test_list = []\n",
    "for i,j in enumerate(y_test_svm):\n",
    "    s = '{0} '.format(j)\n",
    "    for k,m in enumerate(x_test_svm[i]):\n",
    "        s += '{0}:{1} '.format(k+1,m)\n",
    "    tsvm_test_list.append(s)\n"
   ]
  },
  {
   "cell_type": "code",
   "execution_count": 18,
   "metadata": {},
   "outputs": [],
   "source": [
    "tsvm_string = '\\n'.join(tsvm_list)\n",
    "\n",
    "tsvm_test_string = '\\n'.join(tsvm_test_list)\n",
    "    \n",
    "with open(tsvm_data,'w') as f:\n",
    "    print(tsvm_string,file=f)\n",
    "\n",
    "with open(tsvm_test,'w') as f:\n",
    "    print(tsvm_test_string,file=f)"
   ]
  },
  {
   "cell_type": "code",
   "execution_count": null,
   "metadata": {},
   "outputs": [],
   "source": []
  }
 ],
 "metadata": {
  "kernelspec": {
   "display_name": "Python 3",
   "language": "python",
   "name": "python3"
  },
  "language_info": {
   "codemirror_mode": {
    "name": "ipython",
    "version": 3
   },
   "file_extension": ".py",
   "mimetype": "text/x-python",
   "name": "python",
   "nbconvert_exporter": "python",
   "pygments_lexer": "ipython3",
   "version": "3.6.6"
  }
 },
 "nbformat": 4,
 "nbformat_minor": 2
}
